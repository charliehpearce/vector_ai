{
 "cells": [
  {
   "cell_type": "code",
   "execution_count": 2,
   "metadata": {},
   "outputs": [],
   "source": [
    "import numpy as np\n",
    "from PIL import Image\n",
    "from matplotlib import pyplot as plt\n",
    "from utils import load_mnist, get_img, invert_greyscale\n",
    "import json\n",
    "import os\n",
    "\n",
    "%load_ext autoreload\n",
    "%autoreload 2"
   ]
  },
  {
   "cell_type": "markdown",
   "metadata": {},
   "source": [
    "To make sure the code is reusable as possible, the dataset has been converted back to image form and json that relates to the class label. This assumes no preprocessing."
   ]
  },
  {
   "cell_type": "code",
   "execution_count": 3,
   "metadata": {},
   "outputs": [],
   "source": [
    "def numpy_to_imgs(path, kind='train'):\n",
    "    images, labels = load_mnist(path,kind=kind)\n",
    "\n",
    "    out_labels = dict(enumerate(labels.tolist()))\n",
    "    with open(os.path.join(path,'labels.json'),'w') as f:\n",
    "        json.dump(out_labels,f)\n",
    "    \n",
    "    for n,img in enumerate(images):\n",
    "        inverted_image = invert_greyscale(get_img(img))\n",
    "        im = Image.fromarray(inverted_image)\n",
    "        im.save(os.path.join(path,f'png/{n}.png'))\n",
    "\n",
    "path = './data/test'\n",
    "numpy_to_imgs(path,kind='t10k')"
   ]
  }
 ],
 "metadata": {
  "kernelspec": {
   "display_name": "Python 3.9.5 64-bit",
   "name": "python395jvsc74a57bd0aee8b7b246df8f9039afb4144a1f6fd8d2ca17a180786b69acc140d282b71a49"
  },
  "language_info": {
   "codemirror_mode": {
    "name": "ipython",
    "version": 3
   },
   "file_extension": ".py",
   "mimetype": "text/x-python",
   "name": "python",
   "nbconvert_exporter": "python",
   "pygments_lexer": "ipython3",
   "version": "3.9.5"
  },
  "metadata": {
   "interpreter": {
    "hash": "aee8b7b246df8f9039afb4144a1f6fd8d2ca17a180786b69acc140d282b71a49"
   }
  },
  "orig_nbformat": 2
 },
 "nbformat": 4,
 "nbformat_minor": 2
}